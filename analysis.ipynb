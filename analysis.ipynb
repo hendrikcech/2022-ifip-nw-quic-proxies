{
 "cells": [
  {
   "cell_type": "code",
   "execution_count": null,
   "id": "15b67a76",
   "metadata": {},
   "outputs": [],
   "source": [
    "import matplotlib.pyplot as plt\n",
    "import pandas as pd\n",
    "pd.options.mode.chained_assignment = None  # default='warn'\n",
    "\n",
    "%matplotlib inline"
   ]
  },
  {
   "cell_type": "code",
   "execution_count": null,
   "id": "a6c9f16a",
   "metadata": {},
   "outputs": [],
   "source": [
    "from IPython.core.display import display, HTML\n",
    "display(HTML(\"<style>.container { width:95% !important; }</style>\"))"
   ]
  },
  {
   "cell_type": "code",
   "execution_count": null,
   "id": "ff9aed12",
   "metadata": {},
   "outputs": [],
   "source": [
    "class Colors:\n",
    "    quic = \"g\"\n",
    "    quic_pep = \"m\"\n",
    "    tcp = \"r\"\n",
    "    tcp_pep = \"c\""
   ]
  },
  {
   "cell_type": "markdown",
   "id": "f17c08ca",
   "metadata": {},
   "source": [
    "# Goodput"
   ]
  },
  {
   "cell_type": "markdown",
   "id": "9ad17aad",
   "metadata": {},
   "source": [
    "## Load CSVs"
   ]
  },
  {
   "cell_type": "markdown",
   "id": "77da841f",
   "metadata": {},
   "source": [
    "### 0.1s bins"
   ]
  },
  {
   "cell_type": "code",
   "execution_count": null,
   "id": "d92b2170",
   "metadata": {},
   "outputs": [],
   "source": [
    "df_goodput_100ms = pd.read_csv('dataset/goodput_100ms_bins.csv')"
   ]
  },
  {
   "cell_type": "code",
   "execution_count": null,
   "id": "1e531adc",
   "metadata": {
    "scrolled": true
   },
   "outputs": [],
   "source": [
    "print('samples leo: ' + str(sum(df_goodput_100ms['orbit'] == 'leo')))\n",
    "print('samples leo pep: ' + str(sum((df_goodput_100ms['orbit'] == 'leo') & (df_goodput_100ms['pep'] == 1))))\n",
    "print('samples leo non-pep: ' + str(sum((df_goodput_100ms['orbit'] == 'leo') & (df_goodput_100ms['pep'] == 0))))\n",
    "print('samples geo: ' + str(sum(df_goodput_100ms['orbit'] == 'geo')))\n",
    "print('samples geo pep: ' + str(sum((df_goodput_100ms['orbit'] == 'geo') & (df_goodput_100ms['pep'] == 1))))\n",
    "print('samples geo non-pep: ' + str(sum((df_goodput_100ms['orbit'] == 'geo') & (df_goodput_100ms['pep'] == 0))))"
   ]
  },
  {
   "cell_type": "markdown",
   "id": "7ad48c1f",
   "metadata": {},
   "source": [
    "### 1s bins"
   ]
  },
  {
   "cell_type": "code",
   "execution_count": null,
   "id": "228d782d",
   "metadata": {},
   "outputs": [],
   "source": [
    "df_goodput_1s = pd.read_csv('dataset/goodput_1s_bins.csv')"
   ]
  },
  {
   "cell_type": "code",
   "execution_count": null,
   "id": "2599a4c7",
   "metadata": {},
   "outputs": [],
   "source": [
    "print('samples leo: ' + str(sum(df_goodput_1s['orbit'] == 'leo')))\n",
    "print('samples leo pep: ' + str(sum((df_goodput_1s['orbit'] == 'leo') & (df_goodput_1s['pep'] == 1))))\n",
    "print('samples leo non-pep: ' + str(sum((df_goodput_1s['orbit'] == 'leo') & (df_goodput_1s['pep'] == 0))))\n",
    "print('samples geo: ' + str(sum(df_goodput_1s['orbit'] == 'geo')))\n",
    "print('samples geo pep: ' + str(sum((df_goodput_1s['orbit'] == 'geo') & (df_goodput_1s['pep'] == 1))))\n",
    "print('samples geo non-pep: ' + str(sum((df_goodput_1s['orbit'] == 'geo') & (df_goodput_1s['pep'] == 0))))"
   ]
  },
  {
   "cell_type": "markdown",
   "id": "bf190e72",
   "metadata": {},
   "source": [
    "## Plot Goodput"
   ]
  },
  {
   "cell_type": "code",
   "execution_count": null,
   "id": "4a3f1c7d",
   "metadata": {},
   "outputs": [],
   "source": [
    "for xlim in [15]:\n",
    "    \n",
    "    fig, ax = plt.subplots(2,4, figsize = (12, 6), sharex = True, sharey = True)\n",
    "    \n",
    "    orbits = ['geo','leo']\n",
    "    for orbit in orbits:\n",
    "        \n",
    "        if orbit == 'geo':\n",
    "            x=0\n",
    "        if orbit == 'leo':\n",
    "            x=1\n",
    "        \n",
    "        sat_0 = df_goodput_1s[(df_goodput_1s['orbit'] == orbit) & (df_goodput_1s['loss'] == '0')]\n",
    "        y=0\n",
    "\n",
    "        ax[x,y].set_title(orbit.upper() + ' Loss 0%')\n",
    "        ax[x,y].plot(sat_0[sat_0['pep'] == 0].second[0:300], sat_0[sat_0['pep'] == 0].quic[0:300], label=\"QUIC\", color = Colors.quic)\n",
    "        ax[x,y].plot(sat_0[sat_0['pep'] == 1].second[0:300], sat_0[sat_0['pep'] == 1].quic[0:300], label=\"QUIC-PEP\", color = Colors.quic_pep)\n",
    "        ax[x,y].plot(sat_0[sat_0['pep'] == 0].second[0:300], sat_0[sat_0['pep'] == 0].tcp[0:300], label=\"TCP\", color = Colors.tcp)\n",
    "        ax[x,y].plot(sat_0[sat_0['pep'] == 1].second[0:300], sat_0[sat_0['pep'] == 1].tcp[0:300], label=\"TCP-PEP\", color = Colors.tcp_pep)\n",
    "        \n",
    "        \n",
    "        sat_0 = df_goodput_1s[(df_goodput_1s['orbit'] == orbit) & (df_goodput_1s['loss'] == '10^-02')]\n",
    "        y=1\n",
    "\n",
    "        ax[x,y].set_title(orbit.upper() + ' Loss 0.01%')\n",
    "        ax[x,y].plot(sat_0[sat_0['pep'] == 0].second[0:300], sat_0[sat_0['pep'] == 0].quic[0:300], label=\"QUIC\", color = Colors.quic)\n",
    "        ax[x,y].plot(sat_0[sat_0['pep'] == 1].second[0:300], sat_0[sat_0['pep'] == 1].quic[0:300], label=\"QUIC-PEP\", color = Colors.quic_pep)\n",
    "        ax[x,y].plot(sat_0[sat_0['pep'] == 0].second[0:300], sat_0[sat_0['pep'] == 0].tcp[0:300], label=\"TCP\", color = Colors.tcp)\n",
    "        ax[x,y].plot(sat_0[sat_0['pep'] == 1].second[0:300], sat_0[sat_0['pep'] == 1].tcp[0:300], label=\"TCP-PEP\", color = Colors.tcp_pep)\n",
    "        \n",
    "        \n",
    "        sat_0 = df_goodput_1s[(df_goodput_1s['orbit'] == orbit) & (df_goodput_1s['loss'] == '10^-01')]\n",
    "        y=2\n",
    "        \n",
    "        ax[x,y].set_title(orbit.upper() + ' Loss 0.1%')\n",
    "        ax[x,y].plot(sat_0[sat_0['pep'] == 0].second[0:300], sat_0[sat_0['pep'] == 0].quic[0:300], label=\"QUIC\", color = Colors.quic)\n",
    "        ax[x,y].plot(sat_0[sat_0['pep'] == 1].second[0:300], sat_0[sat_0['pep'] == 1].quic[0:300], label=\"QUIC-PEP\", color = Colors.quic_pep)\n",
    "        ax[x,y].plot(sat_0[sat_0['pep'] == 0].second[0:300], sat_0[sat_0['pep'] == 0].tcp[0:300], label=\"TCP\", color = Colors.tcp)\n",
    "        ax[x,y].plot(sat_0[sat_0['pep'] == 1].second[0:300], sat_0[sat_0['pep'] == 1].tcp[0:300], label=\"TCP-PEP\", color = Colors.tcp_pep)\n",
    "        \n",
    "        \n",
    "        sat_0 = df_goodput_1s[(df_goodput_1s['orbit'] == orbit) & (df_goodput_1s['loss'] == '10^0')]\n",
    "        y=3\n",
    "        \n",
    "        ax[x,y].set_title(orbit.upper() + ' Loss 1%')\n",
    "        ax[x,y].plot(sat_0[sat_0['pep'] == 0].second[0:300], sat_0[sat_0['pep'] == 0].quic[0:300], label=\"QUIC\", color = Colors.quic)\n",
    "        ax[x,y].plot(sat_0[sat_0['pep'] == 1].second[0:300], sat_0[sat_0['pep'] == 1].quic[0:300], label=\"QUIC-PEP\", color = Colors.quic_pep)\n",
    "        ax[x,y].plot(sat_0[sat_0['pep'] == 0].second[0:300], sat_0[sat_0['pep'] == 0].tcp[0:300], label=\"TCP\", color = Colors.tcp)\n",
    "        ax[x,y].plot(sat_0[sat_0['pep'] == 1].second[0:300], sat_0[sat_0['pep'] == 1].tcp[0:300], label=\"TCP-PEP\", color = Colors.tcp_pep)\n",
    "\n",
    "    for a in ax.flat:\n",
    "        a.label_outer()\n",
    "        a.grid()\n",
    "        a.set_yscale('log')\n",
    "        a.set_xlim([0,xlim])\n",
    "        a.set_ylim(100,100000)\n",
    "        a.set_xticks([0,5,10,15])\n",
    "        \n",
    "    fig.text(0.5, 0.05, 'time [s]', ha='center')\n",
    "    fig.text(0.08, 0.5, 'goodput [kbps]', va='center', rotation='vertical')\n",
    "    \n",
    "    handles, labels = ax[1,3].get_legend_handles_labels()\n",
    "    ax[1,3].legend(bbox_to_anchor=(1,1), labelspacing = 1)\n",
    "\n",
    "    plt.savefig(\"goodput_\" + str(xlim) + \"_bps.pdf\", bbox_inches='tight')\n",
    "        "
   ]
  },
  {
   "cell_type": "markdown",
   "id": "879a7331",
   "metadata": {},
   "source": [
    "## Plot Goodput diff PEP vs. Non-PEP"
   ]
  },
  {
   "cell_type": "code",
   "execution_count": null,
   "id": "703954e8",
   "metadata": {
    "scrolled": false
   },
   "outputs": [],
   "source": [
    "leo_non_pep = df_goodput_100ms[(df_goodput_100ms['orbit'] == 'leo') & (df_goodput_100ms['pep'] == 0)].set_index(['second', 'loss']).drop(['iw', 'orbit', 'pep'], axis=1)\n",
    "leo_pep = df_goodput_100ms[(df_goodput_100ms['orbit'] == 'leo') & (df_goodput_100ms['pep'] == 1)].set_index(['second', 'loss']).drop(['iw', 'orbit', 'pep'], axis=1)\n",
    "leo_diff_1ms = ((leo_pep / leo_non_pep))\n",
    "leo_diff_1ms = leo_diff_1ms.reset_index()\n",
    "\n",
    "geo_non_pep = df_goodput_100ms[(df_goodput_100ms['orbit'] == 'geo') & (df_goodput_100ms['pep'] == 0)].set_index(['second', 'loss']).drop(['iw', 'orbit', 'pep'], axis=1)\n",
    "geo_pep = df_goodput_100ms[(df_goodput_100ms['orbit'] == 'geo') & (df_goodput_100ms['pep'] == 1)].set_index(['second', 'loss']).drop(['iw', 'orbit', 'pep'], axis=1)\n",
    "geo_diff_1ms = ((geo_pep / geo_non_pep))\n",
    "geo_diff_1ms = geo_diff_1ms.reset_index()\n"
   ]
  },
  {
   "cell_type": "code",
   "execution_count": null,
   "id": "1869c22f",
   "metadata": {},
   "outputs": [],
   "source": [
    "leo_non_pep = df_goodput_1s[(df_goodput_1s['orbit'] == 'leo') & (df_goodput_1s['pep'] == 0)].set_index(['second', 'loss']).drop(['iw', 'orbit', 'pep'], axis=1)\n",
    "leo_pep = df_goodput_1s[(df_goodput_1s['orbit'] == 'leo') & (df_goodput_1s['pep'] == 1)].set_index(['second', 'loss']).drop(['iw', 'orbit', 'pep'], axis=1)\n",
    "leo_diff_1s = ((leo_pep / leo_non_pep))\n",
    "leo_diff_1s = leo_diff_1s.reset_index()\n",
    "\n",
    "geo_non_pep = df_goodput_1s[(df_goodput_1s['orbit'] == 'geo') & (df_goodput_1s['pep'] == 0)].set_index(['second', 'loss']).drop(['iw', 'orbit', 'pep'], axis=1)\n",
    "geo_pep = df_goodput_1s[(df_goodput_1s['orbit'] == 'geo') & (df_goodput_1s['pep'] == 1)].set_index(['second', 'loss']).drop(['iw', 'orbit', 'pep'], axis=1)\n",
    "geo_diff_1s = ((geo_pep / geo_non_pep))\n",
    "geo_diff_1s = geo_diff_1s.reset_index()\n"
   ]
  },
  {
   "cell_type": "code",
   "execution_count": null,
   "id": "ada68250",
   "metadata": {},
   "outputs": [],
   "source": [
    "def style_sub_ax(sub_ax):\n",
    "    sub_ax.set_yscale('log')\n",
    "    sub_ax.grid()\n",
    "    sub_ax.set_xlim([0,xlim])\n",
    "    sub_ax.set_ylim(100,100000)\n",
    "    sub_ax.xaxis.set_ticklabels([])\n",
    "    return sub_ax\n",
    "\n",
    "for xlim in [15]:\n",
    "    \n",
    "    fig, ax = plt.subplots(2,4, figsize = (14, 6), sharex = True, sharey = True)\n",
    "    \n",
    "    orbits = ['geo','leo']\n",
    "    subplots = ['a', 'b', 'c', 'd', 'e', 'f', 'g', 'h']\n",
    "    idx = 0\n",
    "    for orbit in orbits:\n",
    "        \n",
    "        subplots_offset_x = 0\n",
    "        \n",
    "        if orbit == 'geo':\n",
    "            x=0\n",
    "            df = geo_diff_1ms\n",
    "            subplots_offset_y=0\n",
    "        if orbit == 'leo':\n",
    "            x=1\n",
    "            df = leo_diff_1ms\n",
    "            subplots_offset_y-=0.4118\n",
    "            \n",
    "        \n",
    "        #a+e\n",
    "        y=0\n",
    "\n",
    "        sat_0 = df[(df['loss'] == '0')]\n",
    "        ax[x,y].set_title(subplots[idx] + ') ' + orbit.upper() + ' Loss 0%')\n",
    "        ax[x,y].plot(sat_0.second[3:300], sat_0.quic[3:300], label=\"QUIC\", color = Colors.quic_pep)\n",
    "        ax[x,y].plot(sat_0.second[3:300], sat_0.tcp[3:300], label=\"TCP\", color = Colors.tcp_pep)\n",
    "        \n",
    "        sub_ax = fig.add_axes([0.2053+subplots_offset_x, 0.68+subplots_offset_y, 0.1, 0.2])\n",
    "        sub_ax = style_sub_ax(sub_ax)\n",
    "        sat_0 = df_goodput_1s[(df_goodput_1s['orbit'] == orbit) & (df_goodput_1s['loss'] == '0')]\n",
    "        sub_ax.plot(sat_0[sat_0['pep'] == 0].second[0:300], sat_0[sat_0['pep'] == 0].quic[0:300], label=\"QUIC\", color = Colors.quic)\n",
    "        sub_ax.plot(sat_0[sat_0['pep'] == 1].second[0:300], sat_0[sat_0['pep'] == 1].quic[0:300], label=\"QUIC PEP\", color = Colors.quic_pep)\n",
    "        sub_ax.plot(sat_0[sat_0['pep'] == 0].second[0:300], sat_0[sat_0['pep'] == 0].tcp[0:300], label=\"TCP\", color = Colors.tcp)\n",
    "        sub_ax.plot(sat_0[sat_0['pep'] == 1].second[0:300], sat_0[sat_0['pep'] == 1].tcp[0:300], label=\"TCP PEP\", color = Colors.tcp_pep)\n",
    "        \n",
    "        idx+=1\n",
    "        \n",
    "        \n",
    "        #b+f\n",
    "        y=1\n",
    "        subplots_offset_x+=0.1985\n",
    "        \n",
    "        sat_0 = df[(df['loss'] == '10^-02')]\n",
    "        ax[x,y].set_title(subplots[idx] + ') ' + orbit.upper() + ' Loss 0.01%')\n",
    "        ax[x,y].plot(sat_0.second[3:300], sat_0.quic[3:300], label=\"QUIC\", color = Colors.quic_pep)\n",
    "        ax[x,y].plot(sat_0.second[3:300], sat_0.tcp[3:300], label=\"TCP\", color = Colors.tcp_pep)\n",
    "        \n",
    "        sub_ax = fig.add_axes([0.205+subplots_offset_x, 0.68+subplots_offset_y, 0.1, 0.2])\n",
    "        sub_ax = style_sub_ax(sub_ax)\n",
    "        sat_0 = df_goodput_1s[(df_goodput_1s['orbit'] == orbit) & (df_goodput_1s['loss'] == '10^-02')]\n",
    "        sub_ax.plot(sat_0[sat_0['pep'] == 0].second[0:300], sat_0[sat_0['pep'] == 0].quic[0:300], label=\"QUIC\", color = Colors.quic)\n",
    "        sub_ax.plot(sat_0[sat_0['pep'] == 1].second[0:300], sat_0[sat_0['pep'] == 1].quic[0:300], label=\"QUIC PEP\", color = Colors.quic_pep)\n",
    "        sub_ax.plot(sat_0[sat_0['pep'] == 0].second[0:300], sat_0[sat_0['pep'] == 0].tcp[0:300], label=\"TCP\", color = Colors.tcp)\n",
    "        sub_ax.plot(sat_0[sat_0['pep'] == 1].second[0:300], sat_0[sat_0['pep'] == 1].tcp[0:300], label=\"TCP PEP\", color = Colors.tcp_pep)\n",
    "        \n",
    "        idx+=1\n",
    "        \n",
    "        \n",
    "        #c+g\n",
    "        y=2\n",
    "        subplots_offset_x+=0.1983\n",
    "        \n",
    "        sat_0 = df[(df['loss'] == '10^-01')]\n",
    "        ax[x,y].set_title(subplots[idx] + ') ' + orbit.upper() + ' Loss 0.1%')\n",
    "        ax[x,y].plot(sat_0.second[3:300], sat_0.quic[3:300], label=\"QUIC\", color = Colors.quic_pep)\n",
    "        ax[x,y].plot(sat_0.second[3:300], sat_0.tcp[3:300], label=\"TCP\", color = Colors.tcp_pep)\n",
    "        \n",
    "        sub_ax = fig.add_axes([0.205+subplots_offset_x, 0.68+subplots_offset_y, 0.1, 0.2])\n",
    "        sub_ax = style_sub_ax(sub_ax)\n",
    "        sat_0 = df_goodput_1s[(df_goodput_1s['orbit'] == orbit) & (df_goodput_1s['loss']  == '10^-01')]\n",
    "        sub_ax.plot(sat_0[sat_0['pep'] == 0].second[0:300], sat_0[sat_0['pep'] == 0].quic[0:300], label=\"QUIC\", color = Colors.quic)\n",
    "        sub_ax.plot(sat_0[sat_0['pep'] == 1].second[0:300], sat_0[sat_0['pep'] == 1].quic[0:300], label=\"QUIC PEP\", color = Colors.quic_pep)\n",
    "        sub_ax.plot(sat_0[sat_0['pep'] == 0].second[0:300], sat_0[sat_0['pep'] == 0].tcp[0:300], label=\"TCP\", color = Colors.tcp)\n",
    "        sub_ax.plot(sat_0[sat_0['pep'] == 1].second[0:300], sat_0[sat_0['pep'] == 1].tcp[0:300], label=\"TCP PEP\", color = Colors.tcp_pep)\n",
    "        \n",
    "        idx+=1\n",
    "        \n",
    "        \n",
    "        #d+h\n",
    "        y=3\n",
    "        subplots_offset_x+=0.1983\n",
    "        \n",
    "        sat_0 = df[(df['loss'] == '10^0')]\n",
    "        ax[x,y].set_title(subplots[idx] + ') ' + orbit.upper() + ' Loss 1%')\n",
    "        ax[x,y].plot(sat_0.second[3:300], sat_0.quic[3:300], label=\"QUIC\", color = Colors.quic_pep)\n",
    "        ax[x,y].plot(sat_0.second[3:300], sat_0.tcp[3:300], label=\"TCP\", color = Colors.tcp_pep)\n",
    "        \n",
    "        sub_ax = fig.add_axes([0.205+subplots_offset_x, 0.68+subplots_offset_y, 0.1, 0.2])\n",
    "        sub_ax = style_sub_ax(sub_ax)\n",
    "        sat_0 = df_goodput_1s[(df_goodput_1s['orbit'] == orbit) & (df_goodput_1s['loss']  == '10^0')]\n",
    "        sub_ax.plot(sat_0[sat_0['pep'] == 0].second[0:300], sat_0[sat_0['pep'] == 0].quic[0:300], label=\"QUIC\", color = Colors.quic)\n",
    "        sub_ax.plot(sat_0[sat_0['pep'] == 1].second[0:300], sat_0[sat_0['pep'] == 1].quic[0:300], label=\"QUIC-PEP\", color = Colors.quic_pep)\n",
    "        sub_ax.plot(sat_0[sat_0['pep'] == 0].second[0:300], sat_0[sat_0['pep'] == 0].tcp[0:300], label=\"TCP\", color = Colors.tcp)\n",
    "        sub_ax.plot(sat_0[sat_0['pep'] == 1].second[0:300], sat_0[sat_0['pep'] == 1].tcp[0:300], label=\"TCP-PEP\", color = Colors.tcp_pep)\n",
    "       \n",
    "        idx+=1\n",
    "        \n",
    "    for a in ax.flat:\n",
    "        a.label_outer()\n",
    "        a.grid()\n",
    "        a.set_xlim([0,xlim])\n",
    "        a.set_ylim(0,12)\n",
    "        a.hlines(y=1, xmin=0, xmax=30, color='gray', linestyle='--', lw=1)\n",
    "        a.set_xticks([0,5,10,15])\n",
    "        \n",
    "    fig.text(0.5, 0.06, 'time [s]', ha='center')\n",
    "    fig.text(0.09, 0.5, 'Ratio of bytes received PEP to Non-PEP', va='center', rotation='vertical')\n",
    "    \n",
    "    handles, labels = sub_ax.get_legend_handles_labels()\n",
    "    sub_ax.legend(bbox_to_anchor=(-1.27,-1.1), labelspacing = 1, ncol=len(df.columns))\n",
    "    \n",
    "    plt.subplots_adjust(wspace=0.1, hspace=0.2)\n",
    "\n",
    "    plt.savefig(\"goodput_\" + str(xlim) + \"_diff.pdf\", bbox_inches='tight')"
   ]
  },
  {
   "cell_type": "markdown",
   "id": "e794ed90",
   "metadata": {},
   "source": [
    "# Web Performance"
   ]
  },
  {
   "cell_type": "markdown",
   "id": "f9af35aa",
   "metadata": {},
   "source": [
    "## Load CSVs"
   ]
  },
  {
   "cell_type": "code",
   "execution_count": null,
   "id": "a2a27d8e",
   "metadata": {},
   "outputs": [],
   "source": [
    "df = pd.read_csv('dataset/web_performance.csv')"
   ]
  },
  {
   "cell_type": "code",
   "execution_count": null,
   "id": "918afc46",
   "metadata": {},
   "outputs": [],
   "source": [
    "#sample distributions\n",
    "print('transport dist')\n",
    "print(df['transport'].value_counts())\n",
    "print('orbits dist')\n",
    "print(df['orbit'].value_counts())\n",
    "print('loss dist')\n",
    "print(df['loss'].value_counts())\n",
    "print('iw dist')\n",
    "print(df['iw'].value_counts())"
   ]
  },
  {
   "cell_type": "markdown",
   "id": "d3b6c8b5",
   "metadata": {},
   "source": [
    "## Create Table"
   ]
  },
  {
   "cell_type": "code",
   "execution_count": null,
   "id": "8135cce4",
   "metadata": {},
   "outputs": [],
   "source": [
    "df_stripped = df[['orbit', 'transport', 'loss', 'responseStart', 'firstContentfulPaint', 'loadEventStart']]\n"
   ]
  },
  {
   "cell_type": "code",
   "execution_count": null,
   "id": "f8623ebf",
   "metadata": {},
   "outputs": [],
   "source": [
    "df_grouped = df.groupby(['orbit', 'transport', 'loss'], as_index=False).agg({'responseStart':['median'], \n",
    "                                                                             'firstContentfulPaint':['median'], \n",
    "                                                                             'loadEventStart':['median']})\n",
    "df_grouped['ttfb_med'] = df_grouped['responseStart']['median'].astype(int)\n",
    "df_grouped['fcp_med'] = df_grouped['firstContentfulPaint']['median'].astype(int)\n",
    "df_grouped['plt_med'] = df_grouped['loadEventStart']['median'].astype(int)\n",
    "df_grouped = df_grouped.drop(['responseStart'], axis=1)\n",
    "df_grouped = df_grouped.drop(['firstContentfulPaint'], axis=1)\n",
    "df_grouped = df_grouped.drop(['loadEventStart'], axis=1)\n"
   ]
  },
  {
   "cell_type": "code",
   "execution_count": null,
   "id": "b58667b5",
   "metadata": {},
   "outputs": [],
   "source": [
    "df_grouped = df_grouped.pivot(index=['orbit','transport'], columns=['loss'], values=['ttfb_med', 'fcp_med', 'plt_med'])\n",
    "df_grouped\n"
   ]
  },
  {
   "cell_type": "code",
   "execution_count": null,
   "id": "7145b292",
   "metadata": {},
   "outputs": [],
   "source": []
  }
 ],
 "metadata": {
  "kernelspec": {
   "display_name": "Python 3.8.12",
   "language": "python",
   "name": "python3"
  },
  "language_info": {
   "codemirror_mode": {
    "name": "ipython",
    "version": 3
   },
   "file_extension": ".py",
   "mimetype": "text/x-python",
   "name": "python",
   "nbconvert_exporter": "python",
   "pygments_lexer": "ipython3",
   "version": "3.8.12"
  }
 },
 "nbformat": 4,
 "nbformat_minor": 5
}
